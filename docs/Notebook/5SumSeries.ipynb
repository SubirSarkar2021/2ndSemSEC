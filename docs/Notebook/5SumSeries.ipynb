{
 "cells": [
  {
   "cell_type": "markdown",
   "id": "60053a78-181e-4e7b-89fc-9d8cf6af8a78",
   "metadata": {},
   "source": [
    "# Sum of a series of numbers\n",
    "\n",
    "Find the sum of\n",
    "$$\n",
    "\\sum_{n=1}^{100}\\frac{1}{n}\n",
    "$$"
   ]
  },
  {
   "cell_type": "markdown",
   "id": "a0fc7312-8e10-4615-9c16-f7718e6d6bd3",
   "metadata": {},
   "source": [
    "# Algorithm: Sum of Harmonic Series (1 + 1/2 + 1/3 + ... + 1/100)\n",
    "\n",
    "## Step 1: Initialize Variables\n",
    "- Set `num = 1` (starting value).\n",
    "- Set `Sum = 0` (to store the accumulated sum).\n",
    "\n",
    "## Step 2: Loop until `num` reaches 100\n",
    "- While `num <= 100`, do the following:\n",
    "\n",
    "  1. **Add the reciprocal of `num` to `Sum`** (`Sum += 1/num`).\n",
    "  2. **Increment `num` by 1** (`num += 1`).\n",
    "\n",
    "## Step 3: End of Loop\n",
    "- Once `num > 100`, exit the loop.\n",
    "\n",
    "## Step 4: Print the Final Sum\n",
    "- Output the calculated sum of the harmonic series.\n"
   ]
  },
  {
   "cell_type": "markdown",
   "id": "4873f49c-6a05-4ba6-835f-4fc0056f66c3",
   "metadata": {},
   "source": [
    "```mermaid\n",
    "graph TD;\n",
    "    A[Start] --> B[Initialize num = 1, Sum = 0]\n",
    "    B --> C{num <= 100?}\n",
    "    C -- Yes --> D[Sum += 1/num]\n",
    "    D --> E[Increment num by 1]\n",
    "    E --> C\n",
    "    C -- No --> F[Print Sum]\n",
    "    F --> G[End]\n"
   ]
  },
  {
   "cell_type": "code",
   "execution_count": 11,
   "id": "b702ee19-d6c7-4cdb-bf6a-4a2a00920ce2",
   "metadata": {},
   "outputs": [
    {
     "name": "stdout",
     "output_type": "stream",
     "text": [
      "5.187377517639621\n"
     ]
    }
   ],
   "source": [
    "# Using Numpy array\n",
    "import numpy as np\n",
    "\n",
    "x = np.arange(1, 101, 1)\n",
    "val = np.sum(1/x)\n",
    "print(val)"
   ]
  },
  {
   "cell_type": "code",
   "execution_count": 12,
   "id": "421ece1f-6526-47f4-b381-b8da31d9e978",
   "metadata": {},
   "outputs": [
    {
     "name": "stdout",
     "output_type": "stream",
     "text": [
      "5.187377517639621\n"
     ]
    }
   ],
   "source": [
    "# Using While loop\n",
    "num = 1\n",
    "Sum = 0\n",
    "\n",
    "while num <= 100:\n",
    "    Sum += 1/num\n",
    "    num += 1\n",
    "\n",
    "print(Sum)"
   ]
  },
  {
   "cell_type": "code",
   "execution_count": 13,
   "id": "a5f53890-b6c9-4486-a289-9aae7804e486",
   "metadata": {},
   "outputs": [
    {
     "name": "stdout",
     "output_type": "stream",
     "text": [
      "5.187377517639621\n"
     ]
    }
   ],
   "source": [
    "# Using For loop\n",
    "Sum1 = 0\n",
    "for n in range(1, 101):\n",
    "    Sum1 += 1/n\n",
    "\n",
    "print(Sum1)"
   ]
  }
 ],
 "metadata": {
  "kernelspec": {
   "display_name": "Python 3 (ipykernel)",
   "language": "python",
   "name": "python3"
  },
  "language_info": {
   "codemirror_mode": {
    "name": "ipython",
    "version": 3
   },
   "file_extension": ".py",
   "mimetype": "text/x-python",
   "name": "python",
   "nbconvert_exporter": "python",
   "pygments_lexer": "ipython3",
   "version": "3.12.7"
  }
 },
 "nbformat": 4,
 "nbformat_minor": 5
}
