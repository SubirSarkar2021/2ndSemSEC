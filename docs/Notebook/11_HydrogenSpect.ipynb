{
 "cells": [
  {
   "cell_type": "markdown",
   "id": "33e01f9c-f9a7-48c2-99aa-11e08b3306af",
   "metadata": {},
   "source": [
    "Write a program for calculating the wavelengths of emission lines in the spectrum of the hydrogen atom, based on the Rydberg formula\n",
    "$$\n",
    "\\frac{1}{\\lambda} = R\\left(\\frac{1}{n_i^2} - \\frac{1}{n_f^2}\\right)\n",
    "$$"
   ]
  },
  {
   "cell_type": "markdown",
   "id": "52cc5e1a-9529-4142-a498-4d930a3cfdb0",
   "metadata": {},
   "source": [
    "## Algorithm: Spectral Series Wavelength Calculation\n",
    "\n",
    "1. **Define spectral series names**  \n",
    "   - Create a list containing the names of spectral series:\n",
    "     - `Lyman`\n",
    "     - `Balmer`\n",
    "     - `Paschen`\n",
    "     - `Bracket`\n",
    "     - `Pfund`\n",
    "\n",
    "2. **Define the Rydberg constant**  \n",
    "   - Assign the value \\( 1.097 \\times 10^7 \\) to `R`, which represents the Rydberg constant (in \\( m^{-1} \\)).\n",
    "\n",
    "3. **Iterate through the principal quantum numbers**  \n",
    "   - Loop over `n` from **1 to 5 (inclusive)**.\n",
    "   - Compute the inverse wavelength (`lambda_inv`) using the Rydberg formula:\n",
    "     \\[\n",
    "     \\lambda^{-1} = R \\left( \\frac{1}{n^2} - \\frac{1}{m^2} \\right)\n",
    "     \\]\n",
    "     - where `m` runs from \\( n+1 \\) to \\( n+4 \\).\n",
    "\n",
    "4. **Convert inverse wavelength to wavelength**  \n",
    "   - Compute the wavelength `lambda_val` as the reciprocal of `lambda_inv`:\n",
    "     \\[\n",
    "     \\lambda = \\frac{1}{\\lambda_{inv}}\n",
    "     \\]\n",
    "   - Convert `lambda_val` to **nanometers (nm)** by multiplying by \\( 10^9 \\).\n",
    "   - Round the result to three decimal places.\n",
    "\n",
    "5. **Print the results**  \n",
    "   - Display the spectral series name corresponding to `n-1`.\n",
    "   - Print the computed wavelength in nanometers (nm)."
   ]
  },
  {
   "cell_type": "markdown",
   "id": "1d735b00-7f5e-4d04-8d19-e24cef131db8",
   "metadata": {},
   "source": [
    "## Flowchart"
   ]
  },
  {
   "cell_type": "markdown",
   "id": "3a96297e-775b-4c6a-b1df-6c3153e03133",
   "metadata": {},
   "source": [
    "```mermaid\n",
    "flowchart TD;\n",
    "    A[Start] --> B[Define spectral_name list];\n",
    "    B --> C[Define Rydberg constant R];\n",
    "    C --> D[Loop: n from 1 to 5];\n",
    "    D --> E[Loop: m from n+1 to n+4];\n",
    "    E --> F[Compute lambda_inv using Rydberg formula];\n",
    "    F --> G[Compute lambda_val as 1 / lambda_inv];\n",
    "    G --> H[Convert lambda_val to nanometers];\n",
    "    H --> I[Round lambda_val to 3 decimal places];\n",
    "    I --> J[Print spectral series name and wavelength];\n",
    "    J --> K{More values of n?};\n",
    "    K -- Yes --> D;\n",
    "    K -- No --> L[End];\n",
    "```\n"
   ]
  },
  {
   "cell_type": "code",
   "execution_count": 24,
   "id": "761328c4-cb9e-402a-adae-8c7a5631046a",
   "metadata": {},
   "outputs": [
    {
     "name": "stdout",
     "output_type": "stream",
     "text": [
      "Lyman : [121.544 102.552  97.235] nm\n",
      "Balmer : [656.335 486.174 434.084] nm\n",
      "Paschen : [1875.244 1281.905 1093.892] nm\n",
      "Bracket : [4051.453 2625.342 2165.686] nm\n",
      "Pfund : [7458.358 4652.841 3739.803] nm\n"
     ]
    }
   ],
   "source": [
    "spectral_name = [\"Lyman\", \"Balmer\", \"Paschen\", \"Bracket\", \"Pfund\"]\n",
    "\n",
    "R = 1.097e7  # Rydberg constant in m^-1\n",
    "\n",
    "for n in np.arange(1, 6, 1):\n",
    "    lambdainv = np.array([R*(1/n**2 - 1/m**2)for m in np.arange(n+1, n+4, 1)])\n",
    "    lambdaval = 1/lambdainv\n",
    "    lambdaval_nm = np.round(lambdaval * 1e9,3)  # Convert to nanometers\n",
    "    print(spectral_name[n-1],\":\", lambdaval_nm,\"nm\")\n",
    "        "
   ]
  }
 ],
 "metadata": {
  "kernelspec": {
   "display_name": "Python 3 (ipykernel)",
   "language": "python",
   "name": "python3"
  },
  "language_info": {
   "codemirror_mode": {
    "name": "ipython",
    "version": 3
   },
   "file_extension": ".py",
   "mimetype": "text/x-python",
   "name": "python",
   "nbconvert_exporter": "python",
   "pygments_lexer": "ipython3",
   "version": "3.12.7"
  }
 },
 "nbformat": 4,
 "nbformat_minor": 5
}
