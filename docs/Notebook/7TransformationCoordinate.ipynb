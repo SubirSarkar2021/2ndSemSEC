{
 "cells": [
  {
   "cell_type": "markdown",
   "id": "2b338d2c-b148-49bd-bbcc-9301c6a0af30",
   "metadata": {},
   "source": [
    "# Transformation of Coordinates \n",
    "The coordinate of a point in the cartesian coordinate system is given by $(x,y)$ and that in the polar coordinate system is given by $(r, \\theta)$ . Write a user-defined function to transform coordinates from one system to another.\n",
    "\n",
    "Transformations equations from Polar to Cartesian Coordinate system are\n",
    "\\begin{align*}\n",
    "&x = r \\cos \\theta\\\\\n",
    "&y = r \\sin \\theta\n",
    "\\end{align*}\n",
    "\n",
    "Transformations equations from Cartesian to Polar Coordinate system are\n",
    "\\begin{align*}\n",
    "&r = \\sqrt{x^2 + y^2}\\\\\n",
    "&\\theta = \\tan^{-1}\\left(\\frac{y}{x}\\right)\n",
    "\\end{align*}"
   ]
  },
  {
   "cell_type": "markdown",
   "id": "21693973-fa5d-4fcc-9ad3-9ceefbcdc637",
   "metadata": {},
   "source": [
    "## Algorithm: Coordinate Conversion (Polar to Cartesian and Vice Versa)\n",
    "\n",
    "### **Steps:**\n",
    "\n",
    "### **1. Convert Polar to Cartesian (PolarToCart)**\n",
    "1. **Input:** Radius $ r $ and angle in degrees $ \\theta_{deg} $.\n",
    "2. Convert angle from degrees to radians:\n",
    "   $$ \\theta_{rad} = \\text{radians}(\\theta_{deg}) $$\n",
    "3. Compute Cartesian coordinates:\n",
    "   $$ x = r \\cdot \\cos(\\theta_{rad}) $$\n",
    "   $$ y = r \\cdot \\sin(\\theta_{rad}) $$\n",
    "4. Round the values to three decimal places.\n",
    "5. **Output:** Cartesian coordinates $ (x, y) $.\n",
    "\n",
    "### **2. Convert Cartesian to Polar (CartToPolar)**\n",
    "1. **Input:** Cartesian coordinates $ (x, y) $.\n",
    "2. Compute radius:\n",
    "   $$ r = \\sqrt{x^2 + y^2} $$\n",
    "3. Compute angle in degrees:\n",
    "   $$ \\theta = \\text{degrees}(\\text{atan2}(y, x)) $$\n",
    "4. **Output:** Radius $$ r $$ and angle $$ \\theta $$.\n",
    "\n",
    "### **3. Execution Flow**\n",
    "1. Define values \\( x = 2, y = 3 \\).\n",
    "2. Convert Cartesian to Polar using `CartToPolar(2, 3)`, store result in `vals1`.\n",
    "3. Convert back to Cartesian using `PolarToCart(vals1[0], vals1[1])`, store result in `vals2`.\n",
    "4. Print results."
   ]
  },
  {
   "cell_type": "markdown",
   "id": "82fe4531-0f3c-4a26-8d05-47a838de6c3a",
   "metadata": {},
   "source": [
    "```mermaid\n",
    "    flowchart TD;\n",
    "        A[Start] --> B[Define PolarToCart function];\n",
    "        B --> C[Convert theta from degrees to radians];\n",
    "        C --> D[Compute x and y using polar coordinates];\n",
    "        D --> E[Return x, y];\n",
    "        E --> F[Define CartToPolar function];\n",
    "        F --> G[Compute r using sqrt x^2 + y^2];\n",
    "        G --> H[Compute theta using arctan2];\n",
    "        H --> I[Convert theta to degrees];\n",
    "        I --> J[Return r, theta];\n",
    "        J --> K[Set x, y = 2, 3];\n",
    "        K --> L[Call CartToPolar 2, 3 and print];\n",
    "        L --> M[Extract values and call PolarToCart];\n",
    "        M --> N[Print final results];\n",
    "        N --> O[End];\n",
    "    ```"
   ]
  },
  {
   "cell_type": "code",
   "execution_count": 11,
   "id": "248e914a-a458-4360-be67-7922b1c60ecd",
   "metadata": {},
   "outputs": [],
   "source": [
    "def PolarToCart(r, theta_deg):\n",
    "    theta_rad = np.radians(theta_deg)\n",
    "    x = round(r*np.cos(theta_rad), 3)\n",
    "    y = round(r*np.sin(theta_rad), 3)\n",
    "    return x, y\n",
    "\n",
    "def CartToPolar(x, y):\n",
    "    r = np.sqrt(x**2 + y**2)\n",
    "    theta = np.degrees(np.atan2(y,x))\n",
    "    return r, theta"
   ]
  },
  {
   "cell_type": "code",
   "execution_count": 12,
   "id": "e74b508c-7f05-4be2-831d-d4f773abda26",
   "metadata": {},
   "outputs": [
    {
     "name": "stdout",
     "output_type": "stream",
     "text": [
      "(np.float64(3.605551275463989), np.float64(56.309932474020215))\n",
      "(np.float64(2.0), np.float64(3.0))\n"
     ]
    }
   ],
   "source": [
    "import numpy as np\n",
    "\n",
    "x, y= 2, 3\n",
    "vals1 = CartToPolar(2, 3); print(vals)\n",
    "vals2 = PolarToCart(vals1[0], vals1[1]); print(vals2)"
   ]
  }
 ],
 "metadata": {
  "kernelspec": {
   "display_name": "Python 3 (ipykernel)",
   "language": "python",
   "name": "python3"
  },
  "language_info": {
   "codemirror_mode": {
    "name": "ipython",
    "version": 3
   },
   "file_extension": ".py",
   "mimetype": "text/x-python",
   "name": "python",
   "nbconvert_exporter": "python",
   "pygments_lexer": "ipython3",
   "version": "3.12.7"
  }
 },
 "nbformat": 4,
 "nbformat_minor": 5
}
