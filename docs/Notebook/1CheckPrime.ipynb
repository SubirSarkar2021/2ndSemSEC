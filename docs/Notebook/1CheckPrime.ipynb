{
 "cells": [
  {
   "cell_type": "markdown",
   "id": "011d7137-da36-4e72-818a-9d4d8cbf78b5",
   "metadata": {},
   "source": [
    "# Prime Number\n",
    "\n",
    "A number which is divisible by 1 and the number itself is called a **prime number**."
   ]
  },
  {
   "cell_type": "markdown",
   "id": "8b86c64d-ced5-4bbf-9904-f5be323f4569",
   "metadata": {},
   "source": [
    "## **Finding Prime Numbers in a Given Range**\n",
    "\n",
    "## **Algorithm**\n",
    "\n",
    "### **Step 1: Define a Function to Check if a Number is Prime**\n",
    "1. **Input**: An integer \\( n \\).\n",
    "2. **Check**: If \\( n < 2 \\), return **False** (since numbers less than 2 are not prime).\n",
    "3. **Loop**: Iterate \\( i \\) from **2** to \\( \\sqrt{n} \\) (inclusive).\n",
    "   - If \\( n \\) is **divisible** by \\( i \\), return **False** (not prime).\n",
    "4. If no divisors are found, return **True** (prime number).\n",
    "\n",
    "### **Step 2: Define a Function to Find Primes in a Range**\n",
    "1. **Input**: Two integers \\( a \\) and \\( b \\).\n",
    "2. **Initialize**: An empty list to store prime numbers.\n",
    "3. **Loop**: Iterate \\( n \\) from \\( a \\) to \\( b \\) (inclusive).\n",
    "   - If \\( n \\) is prime (using the `is_prime(n)` function), add it to the list.\n",
    "4. **Return** the list of prime numbers.\n",
    "\n",
    "### **Step 3: Call the Function with Example Values**\n",
    "1. Define the range \\( a = 2 \\), \\( b = 10 \\).\n",
    "2. Call `find_primes(a, b)`.\n",
    "3. Print the list of prime numbers found in the given range."
   ]
  },
  {
   "cell_type": "code",
   "execution_count": 1,
   "id": "7a062cbb-71d6-4b84-bf2c-22c112e77a4a",
   "metadata": {},
   "outputs": [
    {
     "name": "stdout",
     "output_type": "stream",
     "text": [
      "Prime numbers between 2 and 10: [2, 3, 5, 7]\n"
     ]
    }
   ],
   "source": [
    "def is_prime(n):\n",
    "    if n < 2:\n",
    "        return False\n",
    "    for i in range(2, int(n ** 0.5) + 1):\n",
    "        if n % i == 0:\n",
    "            return False\n",
    "    return True\n",
    "\n",
    "def find_primes(a, b):\n",
    "    primes = [n for n in range(a, b + 1) if is_prime(n)]\n",
    "    return primes\n",
    "\n",
    "# Example usage\n",
    "a, b = 2, 10\n",
    "print(f\"Prime numbers between {a} and {b}: {find_primes(a, b)}\")\n"
   ]
  }
 ],
 "metadata": {
  "kernelspec": {
   "display_name": "Python 3 (ipykernel)",
   "language": "python",
   "name": "python3"
  },
  "language_info": {
   "codemirror_mode": {
    "name": "ipython",
    "version": 3
   },
   "file_extension": ".py",
   "mimetype": "text/x-python",
   "name": "python",
   "nbconvert_exporter": "python",
   "pygments_lexer": "ipython3",
   "version": "3.12.7"
  }
 },
 "nbformat": 4,
 "nbformat_minor": 5
}
