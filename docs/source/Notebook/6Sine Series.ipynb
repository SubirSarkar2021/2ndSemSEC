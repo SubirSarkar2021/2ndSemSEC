{
 "cells": [
  {
   "cell_type": "markdown",
   "id": "e4a27479-53c7-40de-b99f-e4b1c645aa32",
   "metadata": {},
   "source": [
    "# Sine Series"
   ]
  },
  {
   "cell_type": "markdown",
   "id": "1a993f41-3872-4e5e-b0c4-df6f09e49a91",
   "metadata": {},
   "source": [
    "# Algorithm to Compute sin(x) Using a Series\n",
    "\n",
    "## **Step 1:**  \n",
    "Start  \n",
    "\n",
    "## **Step 2:**  \n",
    "Input the value of $ x $ (in degrees) and the number of terms $ n $  \n",
    "\n",
    "## **Step 3:**  \n",
    "Convert $ x $ from degrees to radians using the formula:  \n",
    "$$\n",
    "x_{\\text{radians}} = x \\times \\frac{\\pi}{180}\n",
    "$$\n",
    "\n",
    "## **Step 4:**  \n",
    "Initialize variables:  \n",
    "- `sin_x = 0` (to store the sum)  \n",
    "- `sign = 1` (to alternate between positive and negative terms)  \n",
    "\n",
    "## **Step 5:**  \n",
    "Loop from $ i = 1 $ to $ n $ (number of terms):  \n",
    "  - Compute the exponent:  \n",
    "    $$\n",
    "    \\text{exponent} = 2i + 1\n",
    "    $$\n",
    "  - Compute the factorial of $ \\text{exponent} $:  \n",
    "    $$\n",
    "    \\text{factorial} = (2i + 1)!\n",
    "    $$\n",
    "  - Compute the term using the formula:  \n",
    "    $$\n",
    "    \\text{term} = \\frac{x^{(2i+1)}}{(2i+1)!} \\times (-1)^{i}\n",
    "    $$\n",
    "  - Add the term to `sin_x`  \n",
    "\n",
    "## **Step 6:**  \n",
    "Print the final value of `sin_x`  \n",
    "\n",
    "## **Step 7:**  \n",
    "Stop  \n"
   ]
  },
  {
   "cell_type": "markdown",
   "id": "ca72e105-dae5-42fc-987c-5b8aec463c5c",
   "metadata": {},
   "source": [
    "# Flowchart"
   ]
  },
  {
   "cell_type": "markdown",
   "id": "0aa10fd8-0fe3-4510-aae9-ebaa8f7dc59b",
   "metadata": {},
   "source": [
    "```mermaid\n",
    "graph TD;\n",
    "    A(Start) --> B[Input x and n]\n",
    "    B --> C[Convert x to radians if needed]\n",
    "    C --> D[Initialize sin_x = 0, sign = 1]\n",
    "    D --> E[Loop i from 1 to n]\n",
    "    E --> F[Compute exponent: 2i - 1]\n",
    "    F --> G[\"Compute factorial of 2i - 1\"]  \n",
    "    G --> H[\"Compute power: x to the power 2i-1\"]\n",
    "    H --> I[\"Compute term: -1 to the power i * x to the power exponent) / factorial\"]\n",
    "    I --> J[Add term to sin_x]\n",
    "    J --> K{More terms?}\n",
    "    K -->|Yes| E\n",
    "    K -->|No| L[Print sin_x]\n",
    "    L --> M(End)\n",
    "  "
   ]
  },
  {
   "cell_type": "code",
   "execution_count": 1,
   "id": "87fd98e7-d194-4b44-a3da-9bebb243cf63",
   "metadata": {},
   "outputs": [
    {
     "name": "stdin",
     "output_type": "stream",
     "text": [
      "Enter the value of x (in degrees):  30\n",
      "Enter the number of terms:  5\n"
     ]
    },
    {
     "name": "stdout",
     "output_type": "stream",
     "text": [
      "sin(30.0) ≈ 0.5000000000202799\n"
     ]
    }
   ],
   "source": [
    "import math\n",
    "\n",
    "def factorial(n):\n",
    "    if n == 0 or n == 1:\n",
    "        return 1\n",
    "    else:\n",
    "        return n * factorial(n - 1)\n",
    "\n",
    "def sin_series(x, n):\n",
    "    x = math.radians(x)  # Convert degrees to radians\n",
    "    sin_x = 0\n",
    "\n",
    "    for i in range(n):\n",
    "        exponent = 2 * i + 1\n",
    "        term = ((-1) ** i) * (x ** exponent) / factorial(exponent)\n",
    "        sin_x += term\n",
    "    \n",
    "    return sin_x\n",
    "\n",
    "# Input\n",
    "x = float(input(\"Enter the value of x (in degrees): \"))\n",
    "n = int(input(\"Enter the number of terms: \"))\n",
    "\n",
    "# Compute sin(x)\n",
    "result = sin_series(x, n)\n",
    "\n",
    "# Output result\n",
    "print(f\"sin({x}) ≈ {result}\")\n"
   ]
  },
  {
   "cell_type": "code",
   "execution_count": 17,
   "id": "e38970b5-6efb-49b9-bd2e-3d8239529b5c",
   "metadata": {},
   "outputs": [
    {
     "name": "stdout",
     "output_type": "stream",
     "text": [
      "sin(0.5235987755982988) ≈ 0.5000000000202799\n"
     ]
    }
   ],
   "source": [
    "import numpy as np\n",
    "from math import factorial\n",
    "from scipy.special import factorial\n",
    "\n",
    "x = np.radians(30)\n",
    "n = np.arange(0, 5, 1)\n",
    "val = np.sum((-1)**(n) * x ** (2 * n + 1)/ factorial(2 * n  + 1)); val\n",
    "\n",
    "# Output result\n",
    "print(f\"sin({x}) ≈ {result}\")"
   ]
  },
  {
   "cell_type": "code",
   "execution_count": null,
   "id": "f201c37a-f989-479a-9469-a58374a6ef32",
   "metadata": {},
   "outputs": [],
   "source": []
  }
 ],
 "metadata": {
  "kernelspec": {
   "display_name": "Python 3 (ipykernel)",
   "language": "python",
   "name": "python3"
  },
  "language_info": {
   "codemirror_mode": {
    "name": "ipython",
    "version": 3
   },
   "file_extension": ".py",
   "mimetype": "text/x-python",
   "name": "python",
   "nbconvert_exporter": "python",
   "pygments_lexer": "ipython3",
   "version": "3.12.7"
  }
 },
 "nbformat": 4,
 "nbformat_minor": 5
}
